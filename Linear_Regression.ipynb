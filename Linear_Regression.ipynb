{
 "cells": [
  {
   "cell_type": "code",
   "execution_count": 27,
   "metadata": {
    "collapsed": false
   },
   "outputs": [],
   "source": [
    "from numpy import *\n",
    "import matplotlib.pyplot as plt"
   ]
  },
  {
   "cell_type": "code",
   "execution_count": 67,
   "metadata": {
    "collapsed": false
   },
   "outputs": [],
   "source": [
    "filename = r'C:\\Users\\kaustabh\\Desktop\\data.txt'\n",
    "dataframe = genfromtxt(filename,delimiter = ',')"
   ]
  },
  {
   "cell_type": "code",
   "execution_count": 62,
   "metadata": {
    "collapsed": false
   },
   "outputs": [
    {
     "data": {
      "image/png": "[encoded data removed]",
      "text/plain": [
       "<matplotlib.figure.Figure at 0x1c3bde8b0f0>"
      ]
     },
     "metadata": {},
     "output_type": "display_data"
    }
   ],
   "source": [
    "#Split train and test data\n",
    "train_data = dataframe[:80,:]\n",
    "test_data  = dataframe[80:,:]\n",
    "\n",
    "plt.figure(0)\n",
    "plt.scatter(dataframe[:,0],dataframe[:,1],color = 'orange')\n",
    "plt.show()\n",
    "\n",
    "#the dataset has 100 tuples so it has been divided into 80 and 20 tuples for training and tsting respectively "
   ]
  },
  {
   "cell_type": "code",
   "execution_count": 63,
   "metadata": {
    "collapsed": true
   },
   "outputs": [],
   "source": [
    "#Gradient Descent Algorithm\n",
    "\n",
    "def grad_desc(points,b_initial,m_initial,learning_rate,training_cycles):\n",
    "    b = b_initial\n",
    "    m = m_initial\n",
    "    for i in range(training_cycles):\n",
    "        m_grad = 0\n",
    "        b_grad = 0\n",
    "        for j in range(0,len(points)):\n",
    "            x = points[j,0]\n",
    "            y = points[j,1]\n",
    "            m_grad += - x*(y - (m * x +b))\n",
    "            b_grad += - (y - (m * x +b))\n",
    "        \n",
    "        b_updated = b - (learning_rate * b_grad * 2 /len(points))    \n",
    "        m_updated = m - (learning_rate * m_grad * 2 /len(points))\n",
    "        b = b_updated\n",
    "        m = m_updated\n",
    "    return [b,m]"
   ]
  },
  {
   "cell_type": "code",
   "execution_count": 64,
   "metadata": {
    "collapsed": false
   },
   "outputs": [
    {
     "name": "stdout",
     "output_type": "stream",
     "text": [
      "0.035523430634 1.45982720476\n"
     ]
    }
   ],
   "source": [
    "optimum_b,optimum_m = grad_desc(train_data,0,0,0.00001,2000)\n",
    "print(optimum_b,optimum_m)"
   ]
  },
  {
   "cell_type": "code",
   "execution_count": 70,
   "metadata": {
    "collapsed": false
   },
   "outputs": [
    {
     "name": "stdout",
     "output_type": "stream",
     "text": [
      "1 Original y =  80.2075231397 \n",
      "Predicted y =  83.1014646371 \n",
      "\n",
      "\n",
      "\n",
      "Error after Optimization:  107.006864141\n",
      "2 Original y =  83.142749792 \n",
      "Predicted y =  83.0542917212 \n",
      "\n",
      "\n",
      "\n",
      "Error after Optimization:  107.006864141\n",
      "3 Original y =  55.7234892605 \n",
      "Predicted y =  50.1559528984 \n",
      "\n",
      "\n",
      "\n",
      "Error after Optimization:  107.006864141\n",
      "4 Original y =  77.6341825117 \n",
      "Predicted y =  86.2379420901 \n",
      "\n",
      "\n",
      "\n",
      "Error after Optimization:  107.006864141\n",
      "5 Original y =  99.0514148417 \n",
      "Predicted y =  84.396344931 \n",
      "\n",
      "\n",
      "\n",
      "Error after Optimization:  107.006864141\n",
      "6 Original y =  79.1206462747 \n",
      "Predicted y =  79.2783436136 \n",
      "\n",
      "\n",
      "\n",
      "Error after Optimization:  107.006864141\n",
      "7 Original y =  69.5888978511 \n",
      "Predicted y =  74.6162265958 \n",
      "\n",
      "\n",
      "\n",
      "Error after Optimization:  107.006864141\n",
      "8 Original y =  69.5105033115 \n",
      "Predicted y =  73.4397758645 \n",
      "\n",
      "\n",
      "\n",
      "Error after Optimization:  107.006864141\n",
      "9 Original y =  73.6875643183 \n",
      "Predicted y =  64.5770268104 \n",
      "\n",
      "\n",
      "\n",
      "Error after Optimization:  107.006864141\n",
      "10 Original y =  61.3669045372 \n",
      "Predicted y =  55.5169687552 \n",
      "\n",
      "\n",
      "\n",
      "Error after Optimization:  107.006864141\n",
      "11 Original y =  67.170655769 \n",
      "Predicted y =  48.1229321889 \n",
      "\n",
      "\n",
      "\n",
      "Error after Optimization:  107.006864141\n",
      "12 Original y =  85.668203145 \n",
      "Predicted y =  78.4160395449 \n",
      "\n",
      "\n",
      "\n",
      "Error after Optimization:  107.006864141\n",
      "13 Original y =  114.853871234 \n",
      "Predicted y =  100.421613073 \n",
      "\n",
      "\n",
      "\n",
      "Error after Optimization:  107.006864141\n",
      "14 Original y =  90.12357207 \n",
      "Predicted y =  67.5247460274 \n",
      "\n",
      "\n",
      "\n",
      "Error after Optimization:  107.006864141\n",
      "15 Original y =  97.9198210352 \n",
      "Predicted y =  99.7699849653 \n",
      "\n",
      "\n",
      "\n",
      "Error after Optimization:  107.006864141\n",
      "16 Original y =  81.536990783 \n",
      "Predicted y =  73.0709329917 \n",
      "\n",
      "\n",
      "\n",
      "Error after Optimization:  107.006864141\n",
      "17 Original y =  72.1118324696 \n",
      "Predicted y =  71.9170724342 \n",
      "\n",
      "\n",
      "\n",
      "Error after Optimization:  107.006864141\n",
      "18 Original y =  85.2320073423 \n",
      "Predicted y =  73.0846577025 \n",
      "\n",
      "\n",
      "\n",
      "Error after Optimization:  107.006864141\n",
      "19 Original y =  66.2249578881 \n",
      "Predicted y =  70.3259973453 \n",
      "\n",
      "\n",
      "\n",
      "Error after Optimization:  107.006864141\n",
      "20 Original y =  53.4543942149 \n",
      "Predicted y =  36.718768934 \n",
      "\n",
      "\n",
      "\n",
      "Error after Optimization:  107.006864141\n"
     ]
    }
   ],
   "source": [
    "for i in range(len(test_data)):\n",
    "    print(i+1,'Original y = ',test_data[i,1],'\\nPredicted y = ',optimum_m * test_data[i,0] + optimum_b,'\\n')\n",
    "    print('\\n\\nError after Optimization: ',error_calc(test_data,optimum_m,optimum_b))"
   ]
  },
  {
   "cell_type": "code",
   "execution_count": 68,
   "metadata": {
    "collapsed": true
   },
   "outputs": [],
   "source": [
    "def error_calc(points,m,b):\n",
    "    error = 0\n",
    "    for i in range(len(points)):\n",
    "        x = points[i,0]\n",
    "        y = points[i,1]\n",
    "        \n",
    "        error += (y - (m * x + b))**2\n",
    "    return error/float(len(points))    \n",
    "    "
   ]
  }
 ],
 "metadata": {
  "kernelspec": {
   "display_name": "Python 3",
   "language": "python",
   "name": "python3"
  },
  "language_info": {
   "codemirror_mode": {
    "name": "ipython",
    "version": 3
   },
   "file_extension": ".py",
   "mimetype": "text/x-python",
   "name": "python",
   "nbconvert_exporter": "python",
   "pygments_lexer": "ipython3",
   "version": "3.5.3"
  }
 },
 "nbformat": 4,
 "nbformat_minor": 2
}
