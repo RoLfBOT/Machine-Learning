{
 "cells": [
  {
   "cell_type": "code",
   "execution_count": 1,
   "metadata": {},
   "outputs": [],
   "source": [
    "import tensorflow as tf\n",
    "import numpy as np\n",
    "import matplotlib.pyplot as plt\n",
    "\n",
    "from __future__ import print_function, absolute_import, division"
   ]
  },
  {
   "cell_type": "code",
   "execution_count": 2,
   "metadata": {},
   "outputs": [
    {
     "name": "stdout",
     "output_type": "stream",
     "text": [
      "Extracting /tmp/data/train-images-idx3-ubyte.gz\n",
      "Extracting /tmp/data/train-labels-idx1-ubyte.gz\n",
      "Extracting /tmp/data/t10k-images-idx3-ubyte.gz\n",
      "Extracting /tmp/data/t10k-labels-idx1-ubyte.gz\n"
     ]
    }
   ],
   "source": [
    "from tensorflow.examples.tutorials.mnist import input_data\n",
    "mnist = input_data.read_data_sets(\"/tmp/data\", one_hot = True)"
   ]
  },
  {
   "cell_type": "code",
   "execution_count": 3,
   "metadata": {
    "collapsed": true
   },
   "outputs": [],
   "source": [
    "num_steps = 10000\n",
    "batch_size = 128\n",
    "lr_generator = 0.002\n",
    "lr_discriminator = 0.002\n",
    "\n",
    "image_dim = 784\n",
    "noise_dim = 100"
   ]
  },
  {
   "cell_type": "code",
   "execution_count": 4,
   "metadata": {},
   "outputs": [],
   "source": [
    "noise_input = tf.placeholder(tf.float32, shape = [None, noise_dim])\n",
    "real_image_input = tf.placeholder(tf.float32, shape = [None, 28, 28, 1])\n",
    "\n",
    "is_training = tf.placeholder(tf.bool)\n",
    "\n",
    "def leakyrelu(x, alpha = 0.2):\n",
    "    return 0.5 * (1 + alpha) * x + 0.5 * (1 - alpha) * abs(x)\n",
    "\n",
    "def generator(x, reuse = False):\n",
    "    with tf.variable_scope('Generator', reuse = reuse):\n",
    "        x = tf.layers.dense(x, units = 7 * 7 * 128)\n",
    "        x = tf.layers.batch_normalization(x, training = is_training)\n",
    "        x = tf.nn.relu(x)\n",
    "        x = tf.reshape(x, shape = [-1, 7, 7, 128])\n",
    "        x = tf.layers.conv2d_transpose(x, 64, 5, strides = 2, padding = 'same')\n",
    "        x = tf.layers.batch_normalization(x, training = is_training)\n",
    "        x = tf.nn.relu(x)\n",
    "        x = tf.layers.conv2d_transpose(x, 1, 5, strides = 2, padding = 'same')\n",
    "        x = tf.nn.tanh(x)\n",
    "        \n",
    "    return x\n",
    "    \n",
    "def discriminator(x, reuse = False):\n",
    "    with tf.variable_scope('Discriminator', reuse = reuse):\n",
    "        x = tf.layers.conv2d(x, 64, 5, strides=2, padding='same')\n",
    "        x = tf.layers.batch_normalization(x, training=is_training)\n",
    "        x = leakyrelu(x)\n",
    "        x = tf.layers.conv2d(x, 128, 5, strides=2, padding='same')\n",
    "        x = tf.layers.batch_normalization(x, training=is_training)\n",
    "        x = leakyrelu(x)\n",
    "        x = tf.reshape(x, shape=[-1, 7*7*128])\n",
    "        x = tf.layers.dense(x, 1024)\n",
    "        x = tf.layers.batch_normalization(x, training=is_training)\n",
    "        x = leakyrelu(x)\n",
    "        x = tf.layers.dense(x, 2)\n",
    "        \n",
    "    return x\n",
    "\n",
    "\n",
    "gen_sample = generator(noise_input)\n",
    "\n",
    "disc_real = discriminator(real_image_input)\n",
    "disc_fake = discriminator(gen_sample, reuse = True)\n",
    "\n",
    "stacked_gan = discriminator(gen_sample, reuse = True)\n",
    "\n",
    "\n",
    "disc_loss_real = tf.reduce_mean(tf.nn.sparse_softmax_cross_entropy_with_logits(\n",
    "    logits = disc_real, labels = tf.ones([batch_size], dtype = tf.int32)))\n",
    "\n",
    "disc_loss_fake = tf.reduce_mean(tf.nn.sparse_softmax_cross_entropy_with_logits(\n",
    "    logits=disc_fake, labels=tf.zeros([batch_size], dtype=tf.int32)))\n",
    "\n",
    "disc_loss = disc_loss_real + disc_loss_fake\n",
    "\n",
    "gen_loss = tf.reduce_mean(tf.nn.sparse_softmax_cross_entropy_with_logits(\n",
    "    logits=stacked_gan, labels=tf.ones([batch_size], dtype=tf.int32)))\n",
    "\n",
    "\n",
    "optimizer_gen = tf.train.AdamOptimizer(learning_rate=lr_generator, beta1=0.5, beta2=0.999)\n",
    "optimizer_disc = tf.train.AdamOptimizer(learning_rate=lr_discriminator, beta1=0.5, beta2=0.999)\n",
    "\n",
    "gen_vars = tf.get_collection(tf.GraphKeys.TRAINABLE_VARIABLES, scope='Generator')\n",
    "disc_vars = tf.get_collection(tf.GraphKeys.TRAINABLE_VARIABLES, scope='Discriminator')\n",
    "\n",
    "\n",
    "gen_update_ops = tf.get_collection(tf.GraphKeys.UPDATE_OPS, scope='Generator')\n",
    "\n",
    "with tf.control_dependencies(gen_update_ops):\n",
    "    train_gen = optimizer_gen.minimize(gen_loss, var_list=gen_vars)\n",
    "disc_update_ops = tf.get_collection(tf.GraphKeys.UPDATE_OPS, scope='Discriminator')\n",
    "with tf.control_dependencies(disc_update_ops):\n",
    "    train_disc = optimizer_disc.minimize(disc_loss, var_list=disc_vars)\n",
    "\n",
    "    \n",
    "init = tf.global_variables_initializer()"
   ]
  },
  {
   "cell_type": "code",
   "execution_count": 6,
   "metadata": {},
   "outputs": [
    {
     "name": "stdout",
     "output_type": "stream",
     "text": [
      "Step 1: Generator Loss: 4.383510, Discriminator Loss: 1.883173\n",
      "Step 500: Generator Loss: 1.426325, Discriminator Loss: 0.900010\n",
      "Step 1000: Generator Loss: 1.753902, Discriminator Loss: 0.689134\n",
      "Step 1500: Generator Loss: 1.987217, Discriminator Loss: 0.736969\n",
      "Step 2000: Generator Loss: 1.979724, Discriminator Loss: 0.990586\n",
      "Step 2500: Generator Loss: 2.638596, Discriminator Loss: 0.552875\n",
      "Step 3000: Generator Loss: 3.171246, Discriminator Loss: 0.302877\n",
      "Step 3500: Generator Loss: 3.283959, Discriminator Loss: 0.288705\n",
      "Step 4000: Generator Loss: 4.215531, Discriminator Loss: 0.319932\n",
      "Step 4500: Generator Loss: 4.543117, Discriminator Loss: 0.246691\n",
      "Step 5000: Generator Loss: 4.924434, Discriminator Loss: 0.215594\n",
      "Step 5500: Generator Loss: 5.062992, Discriminator Loss: 0.273131\n",
      "Step 6000: Generator Loss: 5.066754, Discriminator Loss: 0.468628\n",
      "Step 6500: Generator Loss: 6.002891, Discriminator Loss: 0.121041\n",
      "Step 7000: Generator Loss: 5.502769, Discriminator Loss: 0.119313\n",
      "Step 7500: Generator Loss: 4.278511, Discriminator Loss: 0.207633\n",
      "Step 8000: Generator Loss: 4.591740, Discriminator Loss: 0.119938\n",
      "Step 8500: Generator Loss: 4.485270, Discriminator Loss: 0.179687\n",
      "Step 9000: Generator Loss: 6.672372, Discriminator Loss: 0.031774\n",
      "Step 9500: Generator Loss: 6.191145, Discriminator Loss: 0.095499\n",
      "Step 10000: Generator Loss: 5.164649, Discriminator Loss: 0.253881\n"
     ]
    }
   ],
   "source": [
    "sess = tf.Session()\n",
    "\n",
    "sess.run(init)\n",
    "\n",
    "for i in range(1, num_steps + 1):\n",
    "    batch_x,_ = mnist.train.next_batch(128)\n",
    "    batch_x = np.reshape(batch_x, newshape = [-1, 28, 28, 1])\n",
    "    batch_x = batch_x * 2. - 1\n",
    "    \n",
    "    z = np.random.uniform(-1., 1., size=[batch_size, noise_dim])\n",
    "    _, dl = sess.run([train_disc, disc_loss], feed_dict={real_image_input: batch_x, noise_input: z, is_training:True})\n",
    "    \n",
    "    z = np.random.uniform(-1., 1., size=[batch_size, noise_dim])\n",
    "    _, gl = sess.run([train_gen, gen_loss], feed_dict={noise_input: z, is_training:True})\n",
    "    \n",
    "    if i % 500 == 0 or i == 1:\n",
    "        print('Step %i: Generator Loss: %f, Discriminator Loss: %f' % (i, gl, dl))"
   ]
  },
  {
   "cell_type": "code",
   "execution_count": 7,
   "metadata": {},
   "outputs": [
    {
     "data": {
      "image/png": "[encoded data removed]",
      "text/plain": [
       "<matplotlib.figure.Figure at 0x7f5e587787f0>"
      ]
     },
     "metadata": {},
     "output_type": "display_data"
    }
   ],
   "source": [
    "n = 6\n",
    "canvas = np.empty((28 * n, 28 * n))\n",
    "for i in range(n):\n",
    "    # Noise input.\n",
    "    z = np.random.uniform(-1., 1., size=[n, noise_dim])\n",
    "    # Generate image from noise.\n",
    "    g = sess.run(gen_sample, feed_dict={noise_input: z, is_training:False})\n",
    "    # Rescale values to the original [0, 1] (from tanh -> [-1, 1])\n",
    "    g = (g + 1.) / 2.\n",
    "    # Reverse colours for better display\n",
    "    g = -1 * (g - 1)\n",
    "    for j in range(n):\n",
    "        # Draw the generated digits\n",
    "        canvas[i * 28:(i + 1) * 28, j * 28:(j + 1) * 28] = g[j].reshape([28, 28])\n",
    "\n",
    "plt.figure(figsize=(n, n))\n",
    "plt.imshow(canvas, origin=\"upper\", cmap=\"gray\")\n",
    "plt.show()"
   ]
  }
 ],
 "metadata": {
  "kernelspec": {
   "display_name": "Python 3",
   "language": "python",
   "name": "python3"
  },
  "language_info": {
   "codemirror_mode": {
    "name": "ipython",
    "version": 3
   },
   "file_extension": ".py",
   "mimetype": "text/x-python",
   "name": "python",
   "nbconvert_exporter": "python",
   "pygments_lexer": "ipython3",
   "version": "3.6.2"
  }
 },
 "nbformat": 4,
 "nbformat_minor": 2
}
